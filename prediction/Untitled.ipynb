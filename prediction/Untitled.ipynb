{
 "cells": [
  {
   "cell_type": "code",
   "execution_count": 76,
   "id": "2091ed7d-641f-46a1-b9b2-b4b07d241d4b",
   "metadata": {},
   "outputs": [],
   "source": [
    "from sklearn.model_selection import cross_val_score\n",
    "from sklearn.model_selection import train_test_split\n",
    "from sklearn.datasets import load_iris\n",
    "from sklearn.datasets import load_wine\n",
    "import pandas as pd\n",
    "import numpy as np\n",
    "from sklearn.model_selection import cross_val_score\n",
    "from sklearn.ensemble import RandomForestClassifier\n",
    "from sklearn.model_selection import KFold"
   ]
  },
  {
   "cell_type": "code",
   "execution_count": 108,
   "id": "331ad840-3ccc-4454-b9bd-452de04abb74",
   "metadata": {},
   "outputs": [],
   "source": [
    "import random\n",
    "random.seed(1)\n",
    "data=load_iris()\n"
   ]
  },
  {
   "cell_type": "code",
   "execution_count": 78,
   "id": "bec233fe-0fc9-4f47-b701-f83976c0843d",
   "metadata": {},
   "outputs": [
    {
     "name": "stdout",
     "output_type": "stream",
     "text": [
      "['/Users/kondohdaiki/python_bins/prediction', '/Users/kondohdaiki/anaconda3/lib/python311.zip', '/Users/kondohdaiki/anaconda3/lib/python3.11', '/Users/kondohdaiki/anaconda3/lib/python3.11/lib-dynload', '', '/Users/kondohdaiki/anaconda3/lib/python3.11/site-packages', '/Users/kondohdaiki/anaconda3/lib/python3.11/site-packages/aeosa']\n"
     ]
    }
   ],
   "source": [
    "import sys\n",
    "print(sys.path)"
   ]
  },
  {
   "cell_type": "code",
   "execution_count": 109,
   "id": "f5ba4261-2a65-433a-94bc-23bbc129a3d3",
   "metadata": {},
   "outputs": [
    {
     "data": {
      "text/plain": [
       "array([0, 0, 0, 0, 0, 0, 0, 0, 0, 0, 0, 0, 0, 0, 0, 0, 0, 0, 0, 0, 0, 0,\n",
       "       0, 0, 0, 0, 0, 0, 0, 0, 0, 0, 0, 0, 0, 0, 0, 0, 0, 0, 0, 0, 0, 0,\n",
       "       0, 0, 0, 0, 0, 0, 1, 1, 1, 1, 1, 1, 1, 1, 1, 1, 1, 1, 1, 1, 1, 1,\n",
       "       1, 1, 1, 1, 1, 1, 1, 1, 1, 1, 1, 1, 1, 1, 1, 1, 1, 1, 1, 1, 1, 1,\n",
       "       1, 1, 1, 1, 1, 1, 1, 1, 1, 1, 1, 1, 2, 2, 2, 2, 2, 2, 2, 2, 2, 2,\n",
       "       2, 2, 2, 2, 2, 2, 2, 2, 2, 2, 2, 2, 2, 2, 2, 2, 2, 2, 2, 2, 2, 2,\n",
       "       2, 2, 2, 2, 2, 2, 2, 2, 2, 2, 2, 2, 2, 2, 2, 2, 2, 2])"
      ]
     },
     "execution_count": 109,
     "metadata": {},
     "output_type": "execute_result"
    }
   ],
   "source": [
    "data.target"
   ]
  },
  {
   "cell_type": "code",
   "execution_count": 80,
   "id": "501a14ef-8fea-43fe-a237-7610d080227d",
   "metadata": {},
   "outputs": [],
   "source": [
    "def kfold_score_RandomForestClassifier(x,y,n_split):\n",
    "    y=np.reshape(y,-1)\n",
    "    cv = KFold(n_splits=n_split, random_state=1, shuffle=True)\n",
    "    prediction_model = RandomForestClassifier(random_state=1)\n",
    "    scores_list = cross_val_score(prediction_model, x, y, scoring='accuracy', cv=cv, n_jobs=-1)\n",
    "    \n",
    "    return scores_list,prediction_model"
   ]
  },
  {
   "cell_type": "code",
   "execution_count": 110,
   "id": "da5f7f51-1554-464e-bf6a-25f67999cbdc",
   "metadata": {
    "scrolled": true
   },
   "outputs": [],
   "source": [
    "score_list,model=kfold_score_RandomForestClassifier(data.data,data.target,5)"
   ]
  },
  {
   "cell_type": "code",
   "execution_count": 111,
   "id": "e8812434-4f37-425c-8da9-52ffff14689a",
   "metadata": {},
   "outputs": [
    {
     "data": {
      "text/plain": [
       "array([0.96666667, 0.96666667, 0.96666667, 0.93333333, 0.9       ])"
      ]
     },
     "execution_count": 111,
     "metadata": {},
     "output_type": "execute_result"
    }
   ],
   "source": [
    "score_list"
   ]
  },
  {
   "cell_type": "code",
   "execution_count": 112,
   "id": "19071787-109a-4665-8470-e681a0bab53b",
   "metadata": {},
   "outputs": [],
   "source": [
    "x_train,x_test,y_train,y_test=train_test_split(data.data,data.target,random_state=1)\n",
    "model.fit(x_train,y_train)\n",
    "y_pred=model.predict(x_test)"
   ]
  },
  {
   "cell_type": "code",
   "execution_count": 84,
   "id": "e1f50a9b-a8a1-493e-9814-f0e0962b84f6",
   "metadata": {},
   "outputs": [
    {
     "name": "stdout",
     "output_type": "stream",
     "text": [
      "[[6.5 2.8 4.6 1.5]\n",
      " [6.7 2.5 5.8 1.8]\n",
      " [6.8 3.  5.5 2.1]]\n"
     ]
    }
   ],
   "source": [
    "print(x_train[:3])"
   ]
  },
  {
   "cell_type": "code",
   "execution_count": 113,
   "id": "417dd011-67c2-4f88-90b3-cfe19ee0377f",
   "metadata": {},
   "outputs": [
    {
     "data": {
      "text/plain": [
       "array([0, 1, 1, 0, 2, 1, 2, 0, 0, 2, 1, 0, 2, 1, 1, 0, 1, 1, 0, 0, 1, 1,\n",
       "       2, 0, 2, 1, 0, 0, 1, 2, 1, 2, 1, 2, 2, 0, 1, 0])"
      ]
     },
     "execution_count": 113,
     "metadata": {},
     "output_type": "execute_result"
    }
   ],
   "source": [
    "y_test\n",
    "y_pred\n"
   ]
  },
  {
   "cell_type": "code",
   "execution_count": 49,
   "id": "ecd52eb5-30f8-4671-920e-16d80ae691ee",
   "metadata": {},
   "outputs": [],
   "source": [
    "from sklearn.metrics import confusion_matrix\n",
    "cm=confusion_matrix(y_test, y_pred,labels=[0,1,2])"
   ]
  },
  {
   "cell_type": "code",
   "execution_count": 47,
   "id": "b1eccae3-80bb-4520-8d69-aaa6a7b09dd3",
   "metadata": {},
   "outputs": [],
   "source": [
    "a=[[13,  0,  0],\n",
    "   [ 0, 15,  1],\n",
    "   [ 0,  0,  9]]"
   ]
  },
  {
   "cell_type": "code",
   "execution_count": 72,
   "id": "0936c6cd-e0c7-439a-b076-abba6eb73801",
   "metadata": {},
   "outputs": [
    {
     "data": {
      "text/plain": [
       "array([[False]])"
      ]
     },
     "execution_count": 72,
     "metadata": {},
     "output_type": "execute_result"
    }
   ],
   "source": [
    "np.all(a==cm,keepdims=True)"
   ]
  },
  {
   "cell_type": "code",
   "execution_count": 103,
   "id": "264554d2-f434-4392-b212-b28c208d9c5e",
   "metadata": {},
   "outputs": [],
   "source": [
    "data=load_wine()\n",
    "score_list,model=kfold_score_RandomForestClassifier(data.data,data.target,5)\n",
    "x_train,x_test,y_train,y_test=train_test_split(data.data,data.target,random_state=1)\n",
    "model.fit(x_train,y_train)\n",
    "y_pred=model.predict(x_test)\n",
    "cm=confusion_matrix(y_test, y_pred,labels=[0,1,2])"
   ]
  },
  {
   "cell_type": "code",
   "execution_count": 74,
   "id": "7910bdfc-a563-4677-8a8c-9ee8c564fb20",
   "metadata": {},
   "outputs": [
    {
     "data": {
      "text/plain": [
       "array([[18,  0,  0],\n",
       "       [ 1, 16,  0],\n",
       "       [ 0,  0, 10]])"
      ]
     },
     "execution_count": 74,
     "metadata": {},
     "output_type": "execute_result"
    }
   ],
   "source": [
    "cm"
   ]
  },
  {
   "cell_type": "code",
   "execution_count": 104,
   "id": "9d1e6d5b-8b12-4bb4-9add-f10233bc1d63",
   "metadata": {},
   "outputs": [
    {
     "data": {
      "text/plain": [
       "array([2, 1, 0, 1, 0, 2, 1, 0, 2, 1, 0, 0, 1, 0, 1, 1, 2, 0, 1, 0, 0, 1,\n",
       "       2, 0, 0, 2, 0, 0, 0, 2, 1, 2, 2, 0, 1, 1, 1, 1, 1, 0, 0, 1, 2, 0,\n",
       "       0])"
      ]
     },
     "execution_count": 104,
     "metadata": {},
     "output_type": "execute_result"
    }
   ],
   "source": [
    "y_pred"
   ]
  },
  {
   "cell_type": "code",
   "execution_count": 65,
   "id": "1f714f1a-2bc2-4d01-bdb0-23071d2a8ef1",
   "metadata": {},
   "outputs": [],
   "source": [
    "def print_confusion_matrix(x,y,model,labels):\n",
    "    x_train,x_test,y_train,y_test=train_test_split(x,y,random_state=1)\n",
    "    model.fit(x_train,y_train)\n",
    "    y_pred=model.predict(x_test)\n",
    "    cm=confusion_matrix(y_test, y_pred,labels=labels)\n",
    "\n",
    "    return cm"
   ]
  },
  {
   "cell_type": "code",
   "execution_count": 63,
   "id": "a1e37987-8306-4773-85ff-025266283c72",
   "metadata": {},
   "outputs": [],
   "source": [
    "labels=[0,1,2]"
   ]
  },
  {
   "cell_type": "code",
   "execution_count": 66,
   "id": "92b56345-2f9a-4f98-8345-d8e8d762d8ad",
   "metadata": {
    "scrolled": true
   },
   "outputs": [
    {
     "data": {
      "text/plain": [
       "array([[18,  0,  0],\n",
       "       [ 1, 16,  0],\n",
       "       [ 0,  0, 10]])"
      ]
     },
     "execution_count": 66,
     "metadata": {},
     "output_type": "execute_result"
    }
   ],
   "source": [
    "print_confusion_matrix(data.data,data.target,model,labels=labels)"
   ]
  },
  {
   "cell_type": "code",
   "execution_count": null,
   "id": "ee6b86aa-1348-4e34-9616-3dfa98b2791e",
   "metadata": {},
   "outputs": [],
   "source": []
  }
 ],
 "metadata": {
  "kernelspec": {
   "display_name": "Python 3 (ipykernel)",
   "language": "python",
   "name": "python3"
  },
  "language_info": {
   "codemirror_mode": {
    "name": "ipython",
    "version": 3
   },
   "file_extension": ".py",
   "mimetype": "text/x-python",
   "name": "python",
   "nbconvert_exporter": "python",
   "pygments_lexer": "ipython3",
   "version": "3.11.7"
  }
 },
 "nbformat": 4,
 "nbformat_minor": 5
}
