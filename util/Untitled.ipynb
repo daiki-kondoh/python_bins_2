{
 "cells": [
  {
   "cell_type": "code",
   "execution_count": 6,
   "id": "69c1c9e6-7840-44dd-9ed8-9d7c484ecc7b",
   "metadata": {
    "tags": []
   },
   "outputs": [],
   "source": [
    "import pandas as pd\n",
    "from util import *\n",
    "from sklearn.model_selection import cross_val_score\n",
    "import json\n"
   ]
  },
  {
   "cell_type": "code",
   "execution_count": 3,
   "id": "43450885-7d22-4dea-b424-6f47e7be4397",
   "metadata": {},
   "outputs": [],
   "source": [
    "input_columns_list=['str0','str1','int0']\n",
    "input_data_list=[['data0','data0',0],\n",
    "                   ['data1','data1',1],\n",
    "                   ['data2','data2',0]]\n",
    "input_expect_columns_list=['str0','str1']\n",
    "input_expect_data_list=[['data0','data0'],\n",
    "                   ['data1','data1'],\n",
    "                   ['data2','data2']]\n",
    "sample_df=pd.DataFrame(data=input_data_list,columns=input_columns_list)\n",
    "sample_df_expect=pd.DataFrame(data=input_expect_data_list,columns=input_expect_columns_list)\n",
    "    "
   ]
  },
  {
   "cell_type": "code",
   "execution_count": 19,
   "id": "8b4ad48f-9d85-4e93-b564-b69e670d10bc",
   "metadata": {},
   "outputs": [
    {
     "data": {
      "text/plain": [
       "{'str0': ['data0', 'data0', 0],\n",
       " 'str1': ['data1', 'data1', 1],\n",
       " 'int0': ['data2', 'data2', 0],\n",
       " 'test': 'test'}"
      ]
     },
     "execution_count": 19,
     "metadata": {},
     "output_type": "execute_result"
    }
   ],
   "source": [
    "sample_dict=lists_to_dict(input_columns_list,input_data_list)\n",
    "sample_dict['test']='test'\n",
    "sample_dict"
   ]
  },
  {
   "cell_type": "code",
   "execution_count": 12,
   "id": "7a22d1e8-f909-41dd-a686-51409c21ae94",
   "metadata": {
    "scrolled": true
   },
   "outputs": [
    {
     "data": {
      "text/plain": [
       "'{\"str0\": [\"data0\", \"data0\", 0], \"str1\": [\"data1\", \"data1\", 1], \"int0\": [\"data2\", \"data2\", 0]}'"
      ]
     },
     "execution_count": 12,
     "metadata": {},
     "output_type": "execute_result"
    }
   ],
   "source": [
    "sample_json=json.dumps(sample_dict)\n",
    "sample_json"
   ]
  },
  {
   "cell_type": "code",
   "execution_count": 13,
   "id": "ad1dbb6d-c6a1-46c6-a929-5096d75c7eb0",
   "metadata": {},
   "outputs": [],
   "source": [
    "json_filename = \"data.json\"\n",
    "with open(json_filename, 'w') as json_file:\n",
    "    json.dump(sample_json, json_file, indent=2)"
   ]
  },
  {
   "cell_type": "code",
   "execution_count": 16,
   "id": "4c34eaf1-a756-4977-8b21-56db9337817f",
   "metadata": {},
   "outputs": [],
   "source": [
    "def save_json(filename,json_data):\n",
    "    with open(json_filename, 'w') as json_file:\n",
    "        json.dump(json_data, json_file)"
   ]
  },
  {
   "cell_type": "code",
   "execution_count": 26,
   "id": "8e304795-e961-4af3-8842-7123e540929e",
   "metadata": {},
   "outputs": [],
   "source": [
    "def save_dict_to_json(dic,filename):\n",
    "    json_data=json.dumps(dic)\n",
    "    save_json(filename,json_data)"
   ]
  },
  {
   "cell_type": "code",
   "execution_count": 27,
   "id": "589d7c86-fe2f-4c31-b47c-3a6f181a9783",
   "metadata": {},
   "outputs": [],
   "source": [
    "save_dict_to_json(sample_dict,\"data.json\")"
   ]
  },
  {
   "cell_type": "code",
   "execution_count": 25,
   "id": "2647b174-a214-405e-abde-fa3c38aaca2e",
   "metadata": {},
   "outputs": [
    {
     "data": {
      "text/plain": [
       "'{\"str0\": [\"data0\", \"data0\", 0], \"str1\": [\"data1\", \"data1\", 1], \"int0\": [\"data2\", \"data2\", 0], \"test\": \"test\"}'"
      ]
     },
     "execution_count": 25,
     "metadata": {},
     "output_type": "execute_result"
    }
   ],
   "source": [
    "json.dumps(sample_dict)"
   ]
  },
  {
   "cell_type": "code",
   "execution_count": 8,
   "id": "aa0c0102-aa2f-4b78-b141-e3aa79735812",
   "metadata": {},
   "outputs": [
    {
     "data": {
      "text/plain": [
       "{'str0': ['data0', 'data0', 0],\n",
       " 'str1': ['data1', 'data1', 1],\n",
       " 'int0': ['data2', 'data2', 0]}"
      ]
     },
     "execution_count": 8,
     "metadata": {},
     "output_type": "execute_result"
    }
   ],
   "source": [
    "test_json=json.loads(sample_json)\n",
    "test_json"
   ]
  },
  {
   "cell_type": "code",
   "execution_count": 33,
   "id": "113f0165-bd42-40d9-b00f-c63e53031c20",
   "metadata": {},
   "outputs": [
    {
     "data": {
      "text/plain": [
       "{'str0': ['data0', 'data0', 0],\n",
       " 'str1': ['data1', 'data1', 1],\n",
       " 'int0': ['data2', 'data2', 0],\n",
       " 'test': 'test'}"
      ]
     },
     "execution_count": 33,
     "metadata": {},
     "output_type": "execute_result"
    }
   ],
   "source": [
    "file = open('data.json')\n",
    "value = json.load(file)\n",
    "json.loads(value)"
   ]
  },
  {
   "cell_type": "code",
   "execution_count": 34,
   "id": "bb340e0b-4de6-4912-9e15-23cda7d19843",
   "metadata": {},
   "outputs": [],
   "source": [
    "def load_json(filename):\n",
    "    file = open('data.json')\n",
    "    json_data = json.load(file)\n",
    "    dic=json.loads(json_data)\n",
    "    \n",
    "    return dic"
   ]
  },
  {
   "cell_type": "code",
   "execution_count": 36,
   "id": "ccafe49f-365d-4235-bed6-bd6bf7d01f52",
   "metadata": {},
   "outputs": [
    {
     "data": {
      "text/plain": [
       "{'str0': ['data0', 'data0', 0],\n",
       " 'str1': ['data1', 'data1', 1],\n",
       " 'int0': ['data2', 'data2', 0]}"
      ]
     },
     "execution_count": 36,
     "metadata": {},
     "output_type": "execute_result"
    }
   ],
   "source": [
    "load_json('data.json')"
   ]
  },
  {
   "cell_type": "code",
   "execution_count": 6,
   "id": "70d70af9-7bc5-4c43-bb54-56bffe16be26",
   "metadata": {},
   "outputs": [],
   "source": [
    "diff_df = pd.concat([sample_df, sample_df_expect]).drop_duplicates(keep=False)\n",
    " "
   ]
  },
  {
   "cell_type": "code",
   "execution_count": 9,
   "id": "e75f7446-9f0b-4b38-a261-0c0a3304d4e8",
   "metadata": {},
   "outputs": [
    {
     "ename": "TypeError",
     "evalue": "DataFrame.drop_duplicates() got an unexpected keyword argument 'axis'",
     "output_type": "error",
     "traceback": [
      "\u001b[0;31m---------------------------------------------------------------------------\u001b[0m",
      "\u001b[0;31mTypeError\u001b[0m                                 Traceback (most recent call last)",
      "Cell \u001b[0;32mIn[9], line 1\u001b[0m\n\u001b[0;32m----> 1\u001b[0m \u001b[43mdiff_df\u001b[49m\u001b[38;5;241;43m.\u001b[39;49m\u001b[43mdrop_duplicates\u001b[49m\u001b[43m(\u001b[49m\u001b[43maxis\u001b[49m\u001b[38;5;241;43m=\u001b[39;49m\u001b[38;5;241;43m1\u001b[39;49m\u001b[43m)\u001b[49m\n",
      "\u001b[0;31mTypeError\u001b[0m: DataFrame.drop_duplicates() got an unexpected keyword argument 'axis'"
     ]
    }
   ],
   "source": [
    "diff_df.drop_duplicates(axis=1)"
   ]
  },
  {
   "cell_type": "code",
   "execution_count": 12,
   "id": "894a2431-af40-4afc-8729-c9d893e02137",
   "metadata": {},
   "outputs": [
    {
     "data": {
      "text/plain": [
       "(0, 2)"
      ]
     },
     "execution_count": 12,
     "metadata": {},
     "output_type": "execute_result"
    }
   ],
   "source": [
    "df1 = pd.DataFrame({'A': [1, 2, 3], 'B': [4, 5, 6]})\n",
    "df2 = pd.DataFrame({'A': [1, 2, 3], 'B': [4, 5, 6]})\n",
    "diff_df = pd.concat([df1,df2]).drop_duplicates(keep=False)\n",
    "diff_df.shape"
   ]
  },
  {
   "cell_type": "code",
   "execution_count": 13,
   "id": "55dde98b-88b2-44fb-88fb-7faf2d8292d8",
   "metadata": {},
   "outputs": [
    {
     "data": {
      "text/plain": [
       "True"
      ]
     },
     "execution_count": 13,
     "metadata": {},
     "output_type": "execute_result"
    }
   ],
   "source": [
    "diff_df.shape==(0, 2)"
   ]
  },
  {
   "cell_type": "code",
   "execution_count": 15,
   "id": "550d7c42-ae2d-4d88-b60c-63ad3f7f38eb",
   "metadata": {},
   "outputs": [
    {
     "data": {
      "text/html": [
       "<div>\n",
       "<style scoped>\n",
       "    .dataframe tbody tr th:only-of-type {\n",
       "        vertical-align: middle;\n",
       "    }\n",
       "\n",
       "    .dataframe tbody tr th {\n",
       "        vertical-align: top;\n",
       "    }\n",
       "\n",
       "    .dataframe thead th {\n",
       "        text-align: right;\n",
       "    }\n",
       "</style>\n",
       "<table border=\"1\" class=\"dataframe\">\n",
       "  <thead>\n",
       "    <tr style=\"text-align: right;\">\n",
       "      <th></th>\n",
       "      <th>str0</th>\n",
       "      <th>str1</th>\n",
       "    </tr>\n",
       "  </thead>\n",
       "  <tbody>\n",
       "    <tr>\n",
       "      <th>0</th>\n",
       "      <td>data0</td>\n",
       "      <td>data0</td>\n",
       "    </tr>\n",
       "    <tr>\n",
       "      <th>1</th>\n",
       "      <td>data1</td>\n",
       "      <td>data1</td>\n",
       "    </tr>\n",
       "    <tr>\n",
       "      <th>2</th>\n",
       "      <td>data2</td>\n",
       "      <td>data2</td>\n",
       "    </tr>\n",
       "  </tbody>\n",
       "</table>\n",
       "</div>"
      ],
      "text/plain": [
       "    str0   str1\n",
       "0  data0  data0\n",
       "1  data1  data1\n",
       "2  data2  data2"
      ]
     },
     "execution_count": 15,
     "metadata": {},
     "output_type": "execute_result"
    }
   ],
   "source": [
    "cols=['str0','str1']\n",
    "sample_df_expect[cols]"
   ]
  },
  {
   "cell_type": "code",
   "execution_count": 53,
   "id": "5432a0d8-ba9c-43e7-99a8-804d20ed2592",
   "metadata": {},
   "outputs": [
    {
     "name": "stdout",
     "output_type": "stream",
     "text": [
      "0\n"
     ]
    }
   ],
   "source": [
    "bool=all([type(i) == type('str') for i in sample_df[cols[0]]])\n",
    "bool\n"
   ]
  },
  {
   "cell_type": "code",
   "execution_count": 48,
   "id": "a98b7bc0-75f2-42d9-9989-0f96416bb745",
   "metadata": {},
   "outputs": [
    {
     "data": {
      "text/plain": [
       "True"
      ]
     },
     "execution_count": 48,
     "metadata": {},
     "output_type": "execute_result"
    }
   ],
   "source": [
    "s='str'\n",
    "type(s)==type('a')"
   ]
  },
  {
   "cell_type": "code",
   "execution_count": 55,
   "id": "7d149c20-84e8-455d-a4da-c2df5da38c9a",
   "metadata": {},
   "outputs": [
    {
     "data": {
      "text/plain": [
       "[0, 1]"
      ]
     },
     "execution_count": 55,
     "metadata": {},
     "output_type": "execute_result"
    }
   ],
   "source": [
    "l=[]\n",
    "l.append(0)\n",
    "l.append(1)\n",
    "l"
   ]
  },
  {
   "cell_type": "code",
   "execution_count": 65,
   "id": "a954d314-6a1e-4f25-bbb3-87030d1e0dc3",
   "metadata": {},
   "outputs": [
    {
     "data": {
      "text/plain": [
       "[True, True, True]"
      ]
     },
     "execution_count": 65,
     "metadata": {},
     "output_type": "execute_result"
    }
   ],
   "source": [
    "cols=sample_df.columns\n",
    "[type(i) == type(1) or type(i) == type(1.0)  for i in sample_df[cols[2]]]"
   ]
  },
  {
   "cell_type": "code",
   "execution_count": 16,
   "id": "8d381e36-db1b-4340-87ef-dcbd820b0de4",
   "metadata": {},
   "outputs": [],
   "source": [
    "dict={'?':1,'a':2,'b':2}"
   ]
  },
  {
   "cell_type": "code",
   "execution_count": 21,
   "id": "ee109e4f-48cb-4bcb-9843-5d49b5ac48c7",
   "metadata": {},
   "outputs": [
    {
     "data": {
      "text/plain": [
       "['?', 'a', 'b']"
      ]
     },
     "execution_count": 21,
     "metadata": {},
     "output_type": "execute_result"
    }
   ],
   "source": [
    "list(dict.keys())"
   ]
  },
  {
   "cell_type": "code",
   "execution_count": 19,
   "id": "836e59d8-c862-48f7-a120-dd4b673f76b0",
   "metadata": {},
   "outputs": [
    {
     "name": "stdout",
     "output_type": "stream",
     "text": [
      "?\n",
      "0\n",
      "a\n",
      "1\n",
      "b\n",
      "2\n"
     ]
    }
   ],
   "source": [
    "for i in range(len(dict)):\n",
    "    print(list(dict.keys())[i])\n",
    "    print(i)"
   ]
  },
  {
   "cell_type": "code",
   "execution_count": 18,
   "id": "c7c1403a-a1a7-47ae-a023-5fae8f33de00",
   "metadata": {},
   "outputs": [
    {
     "name": "stdout",
     "output_type": "stream",
     "text": [
      "2\n"
     ]
    }
   ],
   "source": [
    "print(i)"
   ]
  },
  {
   "cell_type": "code",
   "execution_count": 20,
   "id": "c145f31b-4dc9-41f3-862a-a08bd5f7e6b4",
   "metadata": {},
   "outputs": [],
   "source": [
    "def value_to_dummy(value,dict):\n",
    "    keys_list=list(dict.keys())\n",
    "    for keys_list_i in range(len(keys_list)):\n",
    "        key=keys_list[keys_list_i]\n",
    "        if key==value:\n",
    "            return dict[key]\n",
    "        elif keys_list_i==len(keys_list):\n",
    "            return value"
   ]
  },
  {
   "cell_type": "code",
   "execution_count": 33,
   "id": "0e35e386-2e92-4576-9225-294e0bfadc48",
   "metadata": {},
   "outputs": [
    {
     "name": "stdout",
     "output_type": "stream",
     "text": [
      "2\n"
     ]
    }
   ],
   "source": [
    "keys_list=list(dict.keys())\n",
    "for keys_list_i in range(len(keys_list)):\n",
    "    key=keys_list[keys_list_i]\n",
    "    if key=='c':\n",
    "        print(dict[key])\n",
    "        print(keys_list_i)\n",
    "    elif keys_list_i==len(keys_list)-1:\n",
    "        print(keys_list_i)\n",
    "        "
   ]
  },
  {
   "cell_type": "code",
   "execution_count": 9,
   "id": "994bf87e-c55b-4bfc-8308-4e1b2786c574",
   "metadata": {},
   "outputs": [
    {
     "name": "stdout",
     "output_type": "stream",
     "text": [
      "1\n",
      "2\n",
      "3\n"
     ]
    },
    {
     "data": {
      "text/plain": [
       "{None}"
      ]
     },
     "execution_count": 9,
     "metadata": {},
     "output_type": "execute_result"
    }
   ],
   "source": [
    "int_dict={'t1':0,'t2':1,'t3':2}\n",
    "{print(v)for k,v in int_dict}"
   ]
  },
  {
   "cell_type": "code",
   "execution_count": 25,
   "id": "723dc1d6-8b2a-4c7e-a49b-7370b848ea1a",
   "metadata": {},
   "outputs": [
    {
     "data": {
      "text/plain": [
       "numpy.ndarray"
      ]
     },
     "execution_count": 25,
     "metadata": {},
     "output_type": "execute_result"
    }
   ],
   "source": [
    "import numpy as np\n",
    "a=np.array([0,1,False])\n",
    "type(a)\n"
   ]
  },
  {
   "cell_type": "code",
   "execution_count": null,
   "id": "fcb99ca2-aa44-41e5-bbee-1c23db0667ef",
   "metadata": {},
   "outputs": [],
   "source": []
  }
 ],
 "metadata": {
  "kernelspec": {
   "display_name": "Python 3 (ipykernel)",
   "language": "python",
   "name": "python3"
  },
  "language_info": {
   "codemirror_mode": {
    "name": "ipython",
    "version": 3
   },
   "file_extension": ".py",
   "mimetype": "text/x-python",
   "name": "python",
   "nbconvert_exporter": "python",
   "pygments_lexer": "ipython3",
   "version": "3.11.7"
  }
 },
 "nbformat": 4,
 "nbformat_minor": 5
}
